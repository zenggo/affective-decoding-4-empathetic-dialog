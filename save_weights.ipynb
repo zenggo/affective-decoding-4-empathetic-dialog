{
 "cells": [
  {
   "cell_type": "code",
   "execution_count": 1,
   "metadata": {},
   "outputs": [],
   "source": [
    "import argparse\n",
    "import numpy as np\n",
    "import torch\n",
    "from configs import DEFAULT_MODEL_CFG, EMOTION_CATES\n",
    "from model import ELMModel\n",
    "from indexer import Indexer\n",
    "import json"
   ]
  },
  {
   "cell_type": "code",
   "execution_count": 2,
   "metadata": {},
   "outputs": [],
   "source": [
    "cfg = DEFAULT_MODEL_CFG\n",
    "indexer = Indexer(cfg.n_ctx)"
   ]
  },
  {
   "cell_type": "code",
   "execution_count": 3,
   "metadata": {},
   "outputs": [],
   "source": [
    "def load_model(beta, n_emo_embd, model_path):\n",
    "    # load model\n",
    "    cfg.n_emo_embd = n_emo_embd\n",
    "    model = ELMModel(cfg, indexer.n_vocab, indexer.n_special, indexer.n_ctx, indexer, beta)\n",
    "    model.load_state_dict(torch.load(model_path, map_location=torch.device('cpu')))\n",
    "    # read weights\n",
    "    ES = model.ES.weight.data.numpy()\n",
    "    VS = model.VS.weight.data.numpy()\n",
    "    EL = model.EL.weight.data.numpy()\n",
    "    VL = model.VL.weight.data.numpy()\n",
    "    return ES, VS, EL, VL"
   ]
  },
  {
   "cell_type": "code",
   "execution_count": 4,
   "metadata": {},
   "outputs": [],
   "source": [
    "ES, VS, EL, VL = load_model(2.0, 768, 'save/emo2/elm_b2_std002_h768')\n",
    "VES = np.concatenate([VS, ES])\n",
    "VEL = np.concatenate([VL, EL])\n",
    "np.savetxt('save/emo2/weights/b2_std002_h768/VES.tsv', VES, delimiter='\\t')\n",
    "np.savetxt('save/emo2/weights/b2_std002_h768/VEL.tsv', VEL, delimiter='\\t')"
   ]
  },
  {
   "cell_type": "code",
   "execution_count": 5,
   "metadata": {},
   "outputs": [],
   "source": [
    "ES, VS, EL, VL = load_model(2.0, 768, 'save/emo2/elm_b2_std01_h768')\n",
    "VES = np.concatenate([VS, ES])\n",
    "VEL = np.concatenate([VL, EL])\n",
    "np.savetxt('save/emo2/weights/b2_std01_h768/VES.tsv', VES, delimiter='\\t')\n",
    "np.savetxt('save/emo2/weights/b2_std01_h768/VEL.tsv', VEL, delimiter='\\t')"
   ]
  },
  {
   "cell_type": "code",
   "execution_count": 6,
   "metadata": {},
   "outputs": [],
   "source": [
    "ES, VS, EL, VL = load_model(1.0, 300, 'save/emo2/elm_b1_std01_h300')\n",
    "VES = np.concatenate([VS, ES])\n",
    "VEL = np.concatenate([VL, EL])\n",
    "np.savetxt('save/emo2/weights/b1_std01_h300/VES.tsv', VES, delimiter='\\t')\n",
    "np.savetxt('save/emo2/weights/b1_std01_h300/VEL.tsv', VEL, delimiter='\\t')"
   ]
  }
 ],
 "metadata": {
  "kernelspec": {
   "display_name": "Python [conda env:mscproj]",
   "language": "python",
   "name": "conda-env-mscproj-py"
  },
  "language_info": {
   "codemirror_mode": {
    "name": "ipython",
    "version": 3
   },
   "file_extension": ".py",
   "mimetype": "text/x-python",
   "name": "python",
   "nbconvert_exporter": "python",
   "pygments_lexer": "ipython3",
   "version": "3.6.10"
  }
 },
 "nbformat": 4,
 "nbformat_minor": 4
}
